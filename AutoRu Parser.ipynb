{
 "cells": [
  {
   "cell_type": "markdown",
   "metadata": {},
   "source": [
    "За основу взят код с гитхаба\n",
    "https://github.com/sl-iwi/auto_offers_parser/blob/master/app/auto_ru_parser.py  "
   ]
  },
  {
   "cell_type": "code",
   "execution_count": 2,
   "metadata": {},
   "outputs": [],
   "source": [
    "import requests\n",
    "from bs4 import BeautifulSoup\n",
    "import pandas as pd\n",
    "import time"
   ]
  },
  {
   "cell_type": "code",
   "execution_count": 21,
   "metadata": {},
   "outputs": [],
   "source": [
    "from IPython.display import display\n",
    "pd.options.display.max_columns = None"
   ]
  },
  {
   "cell_type": "markdown",
   "metadata": {},
   "source": [
    "Посмотрим на тестовую выборку:"
   ]
  },
  {
   "cell_type": "code",
   "execution_count": null,
   "metadata": {},
   "outputs": [],
   "source": [
    "test = pd.read_csv('test.csv')"
   ]
  },
  {
   "cell_type": "code",
   "execution_count": 22,
   "metadata": {
    "scrolled": true
   },
   "outputs": [
    {
     "data": {
      "text/html": [
       "<div>\n",
       "<style scoped>\n",
       "    .dataframe tbody tr th:only-of-type {\n",
       "        vertical-align: middle;\n",
       "    }\n",
       "\n",
       "    .dataframe tbody tr th {\n",
       "        vertical-align: top;\n",
       "    }\n",
       "\n",
       "    .dataframe thead th {\n",
       "        text-align: right;\n",
       "    }\n",
       "</style>\n",
       "<table border=\"1\" class=\"dataframe\">\n",
       "  <thead>\n",
       "    <tr style=\"text-align: right;\">\n",
       "      <th></th>\n",
       "      <th>bodyType</th>\n",
       "      <th>brand</th>\n",
       "      <th>color</th>\n",
       "      <th>fuelType</th>\n",
       "      <th>modelDate</th>\n",
       "      <th>name</th>\n",
       "      <th>numberOfDoors</th>\n",
       "      <th>productionDate</th>\n",
       "      <th>vehicleConfiguration</th>\n",
       "      <th>vehicleTransmission</th>\n",
       "      <th>engineDisplacement</th>\n",
       "      <th>enginePower</th>\n",
       "      <th>description</th>\n",
       "      <th>mileage</th>\n",
       "      <th>Комплектация</th>\n",
       "      <th>Привод</th>\n",
       "      <th>Руль</th>\n",
       "      <th>Состояние</th>\n",
       "      <th>Владельцы</th>\n",
       "      <th>ПТС</th>\n",
       "      <th>Таможня</th>\n",
       "      <th>Владение</th>\n",
       "      <th>id</th>\n",
       "    </tr>\n",
       "  </thead>\n",
       "  <tbody>\n",
       "    <tr>\n",
       "      <th>19368</th>\n",
       "      <td>седан</td>\n",
       "      <td>INFINITI</td>\n",
       "      <td>синий</td>\n",
       "      <td>бензин</td>\n",
       "      <td>2006.0</td>\n",
       "      <td>G35 3.5 AT (315 л.с.) 4WD</td>\n",
       "      <td>4.0</td>\n",
       "      <td>2007.0</td>\n",
       "      <td>SEDAN AUTOMATIC 3.5</td>\n",
       "      <td>автоматическая</td>\n",
       "      <td>3.5 LTR</td>\n",
       "      <td>315 N12</td>\n",
       "      <td>Продаю машину в отличном состоянии\\nТехнически...</td>\n",
       "      <td>176000.0</td>\n",
       "      <td>['[{\"name\":\"Комфорт\",\"values\":[\"Круиз-контроль...</td>\n",
       "      <td>полный</td>\n",
       "      <td>Левый</td>\n",
       "      <td>Не требует ремонта</td>\n",
       "      <td>3 или более</td>\n",
       "      <td>Оригинал</td>\n",
       "      <td>Растаможен</td>\n",
       "      <td>NaN</td>\n",
       "      <td>19368</td>\n",
       "    </tr>\n",
       "    <tr>\n",
       "      <th>23512</th>\n",
       "      <td>внедорожник 5 дв.</td>\n",
       "      <td>VOLVO</td>\n",
       "      <td>красный</td>\n",
       "      <td>дизель</td>\n",
       "      <td>2013.0</td>\n",
       "      <td>2.4d AT (181 л.с.) 4WD</td>\n",
       "      <td>5.0</td>\n",
       "      <td>2014.0</td>\n",
       "      <td>ALLROAD_5_DOORS AUTOMATIC 2.4</td>\n",
       "      <td>автоматическая</td>\n",
       "      <td>2.4 LTR</td>\n",
       "      <td>181 N12</td>\n",
       "      <td>✪  ✪  ✪  ✪  ✪  ✪  ✪  ✪  ✪ ✪  ✪  ✪  ✪  ✪  ✪  ✪ ...</td>\n",
       "      <td>138265.0</td>\n",
       "      <td>['[{\"name\":\"Комфорт\",\"values\":[\"Электростеклоп...</td>\n",
       "      <td>полный</td>\n",
       "      <td>Левый</td>\n",
       "      <td>Не требует ремонта</td>\n",
       "      <td>1 владелец</td>\n",
       "      <td>Оригинал</td>\n",
       "      <td>Растаможен</td>\n",
       "      <td>NaN</td>\n",
       "      <td>23512</td>\n",
       "    </tr>\n",
       "    <tr>\n",
       "      <th>24303</th>\n",
       "      <td>лифтбек</td>\n",
       "      <td>SKODA</td>\n",
       "      <td>серебристый</td>\n",
       "      <td>бензин</td>\n",
       "      <td>2012.0</td>\n",
       "      <td>1.6 MT (105 л.с.)</td>\n",
       "      <td>5.0</td>\n",
       "      <td>2015.0</td>\n",
       "      <td>LIFTBACK MECHANICAL 1.6</td>\n",
       "      <td>механическая</td>\n",
       "      <td>1.6 LTR</td>\n",
       "      <td>105 N12</td>\n",
       "      <td>Покупал машину у стариков на 9 тыс жизни . Чех...</td>\n",
       "      <td>40000.0</td>\n",
       "      <td>['[{\"name\":\"Прочее\",\"values\":[\"Защита картера\"...</td>\n",
       "      <td>передний</td>\n",
       "      <td>Левый</td>\n",
       "      <td>Не требует ремонта</td>\n",
       "      <td>2 владельца</td>\n",
       "      <td>Оригинал</td>\n",
       "      <td>Растаможен</td>\n",
       "      <td>NaN</td>\n",
       "      <td>24303</td>\n",
       "    </tr>\n",
       "    <tr>\n",
       "      <th>29358</th>\n",
       "      <td>седан</td>\n",
       "      <td>HONDA</td>\n",
       "      <td>белый</td>\n",
       "      <td>бензин</td>\n",
       "      <td>2007.0</td>\n",
       "      <td>Type S 2.4 AT (201 л.с.)</td>\n",
       "      <td>4.0</td>\n",
       "      <td>2008.0</td>\n",
       "      <td>SEDAN AUTOMATIC 2.4</td>\n",
       "      <td>автоматическая</td>\n",
       "      <td>2.4 LTR</td>\n",
       "      <td>201 N12</td>\n",
       "      <td>Аккуратная эксплуатация. Идеальное состояние....</td>\n",
       "      <td>130000.0</td>\n",
       "      <td>['[{\"name\":\"Прочее\",\"values\":[\"Защита картера\"...</td>\n",
       "      <td>передний</td>\n",
       "      <td>Левый</td>\n",
       "      <td>Не требует ремонта</td>\n",
       "      <td>2 владельца</td>\n",
       "      <td>Оригинал</td>\n",
       "      <td>Растаможен</td>\n",
       "      <td>10 лет</td>\n",
       "      <td>29358</td>\n",
       "    </tr>\n",
       "    <tr>\n",
       "      <th>34931</th>\n",
       "      <td>внедорожник 5 дв.</td>\n",
       "      <td>AUDI</td>\n",
       "      <td>чёрный</td>\n",
       "      <td>дизель</td>\n",
       "      <td>2005.0</td>\n",
       "      <td>3.0d AT (233 л.с.) 4WD</td>\n",
       "      <td>5.0</td>\n",
       "      <td>2007.0</td>\n",
       "      <td>ALLROAD_5_DOORS AUTOMATIC 3.0</td>\n",
       "      <td>автоматическая</td>\n",
       "      <td>3.0 LTR</td>\n",
       "      <td>233 N12</td>\n",
       "      <td>Состояние хорошее, все работает. Двигатель, ко...</td>\n",
       "      <td>344000.0</td>\n",
       "      <td>['[{\"name\":\"Обзор\",\"values\":[\"Противотуманные ...</td>\n",
       "      <td>полный</td>\n",
       "      <td>Левый</td>\n",
       "      <td>Не требует ремонта</td>\n",
       "      <td>3 или более</td>\n",
       "      <td>Дубликат</td>\n",
       "      <td>Растаможен</td>\n",
       "      <td>NaN</td>\n",
       "      <td>34931</td>\n",
       "    </tr>\n",
       "    <tr>\n",
       "      <th>7712</th>\n",
       "      <td>внедорожник 5 дв.</td>\n",
       "      <td>NISSAN</td>\n",
       "      <td>чёрный</td>\n",
       "      <td>бензин</td>\n",
       "      <td>2010.0</td>\n",
       "      <td>1.6 CVT (117 л.с.)</td>\n",
       "      <td>5.0</td>\n",
       "      <td>2013.0</td>\n",
       "      <td>ALLROAD_5_DOORS VARIATOR 1.6</td>\n",
       "      <td>вариатор</td>\n",
       "      <td>1.6 LTR</td>\n",
       "      <td>117 N12</td>\n",
       "      <td>Прочее: 2. Комфорт: 10. Салон: 11. Безопасност...</td>\n",
       "      <td>45000.0</td>\n",
       "      <td>['[{\"name\":\"Прочее\",\"values\":[\"Защита картера\"...</td>\n",
       "      <td>передний</td>\n",
       "      <td>Левый</td>\n",
       "      <td>Не требует ремонта</td>\n",
       "      <td>1 владелец</td>\n",
       "      <td>Оригинал</td>\n",
       "      <td>Растаможен</td>\n",
       "      <td>6 лет и 5 месяцев</td>\n",
       "      <td>7712</td>\n",
       "    </tr>\n",
       "    <tr>\n",
       "      <th>356</th>\n",
       "      <td>внедорожник 5 дв.</td>\n",
       "      <td>NISSAN</td>\n",
       "      <td>серый</td>\n",
       "      <td>бензин</td>\n",
       "      <td>2007.0</td>\n",
       "      <td>2.5 CVT (169 л.с.) 4WD</td>\n",
       "      <td>5.0</td>\n",
       "      <td>2008.0</td>\n",
       "      <td>ALLROAD_5_DOORS VARIATOR 2.5</td>\n",
       "      <td>вариатор</td>\n",
       "      <td>2.5 LTR</td>\n",
       "      <td>169 N12</td>\n",
       "      <td>Артикул: 24813\\n\\nПРИ ПОКУПКЕ АВТОМОБИЛЯ В КРЕ...</td>\n",
       "      <td>117000.0</td>\n",
       "      <td>['[{\"name\":\"Комфорт\",\"values\":[\"Круиз-контроль...</td>\n",
       "      <td>полный</td>\n",
       "      <td>Левый</td>\n",
       "      <td>Не требует ремонта</td>\n",
       "      <td>2 владельца</td>\n",
       "      <td>Оригинал</td>\n",
       "      <td>Растаможен</td>\n",
       "      <td>NaN</td>\n",
       "      <td>356</td>\n",
       "    </tr>\n",
       "    <tr>\n",
       "      <th>1077</th>\n",
       "      <td>внедорожник 5 дв.</td>\n",
       "      <td>MITSUBISHI</td>\n",
       "      <td>белый</td>\n",
       "      <td>бензин</td>\n",
       "      <td>2012.0</td>\n",
       "      <td>1.8 CVT (140 л.с.)</td>\n",
       "      <td>5.0</td>\n",
       "      <td>2013.0</td>\n",
       "      <td>ALLROAD_5_DOORS VARIATOR 1.8</td>\n",
       "      <td>вариатор</td>\n",
       "      <td>1.8 LTR</td>\n",
       "      <td>140 N12</td>\n",
       "      <td>100% история обслуживания: имеются все докумен...</td>\n",
       "      <td>130000.0</td>\n",
       "      <td>['[{\"name\":\"Прочее\",\"values\":[\"Защита картера\"...</td>\n",
       "      <td>передний</td>\n",
       "      <td>Левый</td>\n",
       "      <td>Не требует ремонта</td>\n",
       "      <td>1 владелец</td>\n",
       "      <td>Оригинал</td>\n",
       "      <td>Растаможен</td>\n",
       "      <td>6 лет и 4 месяца</td>\n",
       "      <td>1077</td>\n",
       "    </tr>\n",
       "    <tr>\n",
       "      <th>17314</th>\n",
       "      <td>седан</td>\n",
       "      <td>HONDA</td>\n",
       "      <td>коричневый</td>\n",
       "      <td>бензин</td>\n",
       "      <td>2005.0</td>\n",
       "      <td>1.8 MT (140 л.с.)</td>\n",
       "      <td>4.0</td>\n",
       "      <td>2007.0</td>\n",
       "      <td>SEDAN MECHANICAL 1.8</td>\n",
       "      <td>механическая</td>\n",
       "      <td>1.8 LTR</td>\n",
       "      <td>140 N12</td>\n",
       "      <td>Надёжный авто, японская сборка, ПТС оригинал, ...</td>\n",
       "      <td>210000.0</td>\n",
       "      <td>[]</td>\n",
       "      <td>передний</td>\n",
       "      <td>Левый</td>\n",
       "      <td>Не требует ремонта</td>\n",
       "      <td>3 или более</td>\n",
       "      <td>Оригинал</td>\n",
       "      <td>Растаможен</td>\n",
       "      <td>NaN</td>\n",
       "      <td>17314</td>\n",
       "    </tr>\n",
       "    <tr>\n",
       "      <th>32954</th>\n",
       "      <td>купе</td>\n",
       "      <td>NISSAN</td>\n",
       "      <td>чёрный</td>\n",
       "      <td>бензин</td>\n",
       "      <td>2005.0</td>\n",
       "      <td>3.5 MT (300 л.с.)</td>\n",
       "      <td>2.0</td>\n",
       "      <td>2006.0</td>\n",
       "      <td>COUPE MECHANICAL 3.5</td>\n",
       "      <td>механическая</td>\n",
       "      <td>3.5 LTR</td>\n",
       "      <td>300 N12</td>\n",
       "      <td>Дилерский авто в хорошем, полностью стоковом т...</td>\n",
       "      <td>105000.0</td>\n",
       "      <td>['[{\"name\":\"Комфорт\",\"values\":[\"Круиз-контроль...</td>\n",
       "      <td>задний</td>\n",
       "      <td>Левый</td>\n",
       "      <td>Не требует ремонта</td>\n",
       "      <td>3 или более</td>\n",
       "      <td>Оригинал</td>\n",
       "      <td>Растаможен</td>\n",
       "      <td>6 лет и 9 месяцев</td>\n",
       "      <td>32954</td>\n",
       "    </tr>\n",
       "  </tbody>\n",
       "</table>\n",
       "</div>"
      ],
      "text/plain": [
       "                bodyType       brand        color fuelType  modelDate  \\\n",
       "19368              седан    INFINITI        синий   бензин     2006.0   \n",
       "23512  внедорожник 5 дв.       VOLVO      красный   дизель     2013.0   \n",
       "24303            лифтбек       SKODA  серебристый   бензин     2012.0   \n",
       "29358              седан       HONDA        белый   бензин     2007.0   \n",
       "34931  внедорожник 5 дв.        AUDI       чёрный   дизель     2005.0   \n",
       "7712   внедорожник 5 дв.      NISSAN       чёрный   бензин     2010.0   \n",
       "356    внедорожник 5 дв.      NISSAN        серый   бензин     2007.0   \n",
       "1077   внедорожник 5 дв.  MITSUBISHI        белый   бензин     2012.0   \n",
       "17314              седан       HONDA   коричневый   бензин     2005.0   \n",
       "32954               купе      NISSAN       чёрный   бензин     2005.0   \n",
       "\n",
       "                            name  numberOfDoors  productionDate  \\\n",
       "19368  G35 3.5 AT (315 л.с.) 4WD            4.0          2007.0   \n",
       "23512     2.4d AT (181 л.с.) 4WD            5.0          2014.0   \n",
       "24303          1.6 MT (105 л.с.)            5.0          2015.0   \n",
       "29358   Type S 2.4 AT (201 л.с.)            4.0          2008.0   \n",
       "34931     3.0d AT (233 л.с.) 4WD            5.0          2007.0   \n",
       "7712          1.6 CVT (117 л.с.)            5.0          2013.0   \n",
       "356       2.5 CVT (169 л.с.) 4WD            5.0          2008.0   \n",
       "1077          1.8 CVT (140 л.с.)            5.0          2013.0   \n",
       "17314          1.8 MT (140 л.с.)            4.0          2007.0   \n",
       "32954          3.5 MT (300 л.с.)            2.0          2006.0   \n",
       "\n",
       "                vehicleConfiguration vehicleTransmission engineDisplacement  \\\n",
       "19368            SEDAN AUTOMATIC 3.5      автоматическая            3.5 LTR   \n",
       "23512  ALLROAD_5_DOORS AUTOMATIC 2.4      автоматическая            2.4 LTR   \n",
       "24303        LIFTBACK MECHANICAL 1.6        механическая            1.6 LTR   \n",
       "29358            SEDAN AUTOMATIC 2.4      автоматическая            2.4 LTR   \n",
       "34931  ALLROAD_5_DOORS AUTOMATIC 3.0      автоматическая            3.0 LTR   \n",
       "7712    ALLROAD_5_DOORS VARIATOR 1.6            вариатор            1.6 LTR   \n",
       "356     ALLROAD_5_DOORS VARIATOR 2.5            вариатор            2.5 LTR   \n",
       "1077    ALLROAD_5_DOORS VARIATOR 1.8            вариатор            1.8 LTR   \n",
       "17314           SEDAN MECHANICAL 1.8        механическая            1.8 LTR   \n",
       "32954           COUPE MECHANICAL 3.5        механическая            3.5 LTR   \n",
       "\n",
       "      enginePower                                        description  \\\n",
       "19368     315 N12  Продаю машину в отличном состоянии\\nТехнически...   \n",
       "23512     181 N12  ✪  ✪  ✪  ✪  ✪  ✪  ✪  ✪  ✪ ✪  ✪  ✪  ✪  ✪  ✪  ✪ ...   \n",
       "24303     105 N12  Покупал машину у стариков на 9 тыс жизни . Чех...   \n",
       "29358     201 N12   Аккуратная эксплуатация. Идеальное состояние....   \n",
       "34931     233 N12  Состояние хорошее, все работает. Двигатель, ко...   \n",
       "7712      117 N12  Прочее: 2. Комфорт: 10. Салон: 11. Безопасност...   \n",
       "356       169 N12  Артикул: 24813\\n\\nПРИ ПОКУПКЕ АВТОМОБИЛЯ В КРЕ...   \n",
       "1077      140 N12  100% история обслуживания: имеются все докумен...   \n",
       "17314     140 N12  Надёжный авто, японская сборка, ПТС оригинал, ...   \n",
       "32954     300 N12  Дилерский авто в хорошем, полностью стоковом т...   \n",
       "\n",
       "        mileage                                       Комплектация    Привод  \\\n",
       "19368  176000.0  ['[{\"name\":\"Комфорт\",\"values\":[\"Круиз-контроль...    полный   \n",
       "23512  138265.0  ['[{\"name\":\"Комфорт\",\"values\":[\"Электростеклоп...    полный   \n",
       "24303   40000.0  ['[{\"name\":\"Прочее\",\"values\":[\"Защита картера\"...  передний   \n",
       "29358  130000.0  ['[{\"name\":\"Прочее\",\"values\":[\"Защита картера\"...  передний   \n",
       "34931  344000.0  ['[{\"name\":\"Обзор\",\"values\":[\"Противотуманные ...    полный   \n",
       "7712    45000.0  ['[{\"name\":\"Прочее\",\"values\":[\"Защита картера\"...  передний   \n",
       "356    117000.0  ['[{\"name\":\"Комфорт\",\"values\":[\"Круиз-контроль...    полный   \n",
       "1077   130000.0  ['[{\"name\":\"Прочее\",\"values\":[\"Защита картера\"...  передний   \n",
       "17314  210000.0                                                 []  передний   \n",
       "32954  105000.0  ['[{\"name\":\"Комфорт\",\"values\":[\"Круиз-контроль...    задний   \n",
       "\n",
       "        Руль           Состояние    Владельцы       ПТС     Таможня  \\\n",
       "19368  Левый  Не требует ремонта  3 или более  Оригинал  Растаможен   \n",
       "23512  Левый  Не требует ремонта   1 владелец  Оригинал  Растаможен   \n",
       "24303  Левый  Не требует ремонта  2 владельца  Оригинал  Растаможен   \n",
       "29358  Левый  Не требует ремонта  2 владельца  Оригинал  Растаможен   \n",
       "34931  Левый  Не требует ремонта  3 или более  Дубликат  Растаможен   \n",
       "7712   Левый  Не требует ремонта   1 владелец  Оригинал  Растаможен   \n",
       "356    Левый  Не требует ремонта  2 владельца  Оригинал  Растаможен   \n",
       "1077   Левый  Не требует ремонта   1 владелец  Оригинал  Растаможен   \n",
       "17314  Левый  Не требует ремонта  3 или более  Оригинал  Растаможен   \n",
       "32954  Левый  Не требует ремонта  3 или более  Оригинал  Растаможен   \n",
       "\n",
       "                Владение     id  \n",
       "19368                NaN  19368  \n",
       "23512                NaN  23512  \n",
       "24303                NaN  24303  \n",
       "29358             10 лет  29358  \n",
       "34931                NaN  34931  \n",
       "7712   6 лет и 5 месяцев   7712  \n",
       "356                  NaN    356  \n",
       "1077    6 лет и 4 месяца   1077  \n",
       "17314                NaN  17314  \n",
       "32954  6 лет и 9 месяцев  32954  "
      ]
     },
     "execution_count": 22,
     "metadata": {},
     "output_type": "execute_result"
    }
   ],
   "source": [
    "test.sample(10)"
   ]
  },
  {
   "cell_type": "code",
   "execution_count": 5,
   "metadata": {},
   "outputs": [
    {
     "data": {
      "text/plain": [
       "VOLKSWAGEN    3872\n",
       "AUDI          3837\n",
       "BMW           3837\n",
       "TOYOTA        3706\n",
       "MERCEDES      3671\n",
       "SKODA         3651\n",
       "NISSAN        3602\n",
       "MITSUBISHI    2161\n",
       "VOLVO         2140\n",
       "HONDA         1692\n",
       "LEXUS         1427\n",
       "INFINITI      1336\n",
       "SUZUKI        1058\n",
       "Name: brand, dtype: int64"
      ]
     },
     "execution_count": 5,
     "metadata": {},
     "output_type": "execute_result"
    }
   ],
   "source": [
    "test['brand'].value_counts()"
   ]
  },
  {
   "cell_type": "code",
   "execution_count": 18,
   "metadata": {},
   "outputs": [
    {
     "data": {
      "text/plain": [
       "(35990, 23)"
      ]
     },
     "execution_count": 18,
     "metadata": {},
     "output_type": "execute_result"
    }
   ],
   "source": [
    "test.shape"
   ]
  },
  {
   "cell_type": "code",
   "execution_count": 20,
   "metadata": {},
   "outputs": [
    {
     "data": {
      "text/plain": [
       "Index(['bodyType', 'brand', 'color', 'fuelType', 'modelDate', 'name',\n",
       "       'numberOfDoors', 'productionDate', 'vehicleConfiguration',\n",
       "       'vehicleTransmission', 'engineDisplacement', 'enginePower',\n",
       "       'description', 'mileage', 'Комплектация', 'Привод', 'Руль', 'Состояние',\n",
       "       'Владельцы', 'ПТС', 'Таможня', 'Владение', 'id'],\n",
       "      dtype='object')"
      ]
     },
     "execution_count": 20,
     "metadata": {},
     "output_type": "execute_result"
    }
   ],
   "source": [
    "test.columns"
   ]
  },
  {
   "cell_type": "markdown",
   "metadata": {},
   "source": [
    "Тестовая выборка состоит из двух блоков информации для парсинга:\n",
    "\n",
    "Часть bodytype - mileage парсим в первую очередь\n",
    "\n",
    "Во вторую очередь парсим следующие поля:\n",
    "\n",
    "'description'\n",
    "'Комплектация'\n",
    "'Привод'\n",
    "'Руль'\n",
    "'Состояние'\n",
    "'Владельцы'\n",
    "'ПТС'\n",
    "'Таможня'\n",
    "'Владение'\n",
    "'id'\n"
   ]
  },
  {
   "cell_type": "markdown",
   "metadata": {},
   "source": [
    "### Парсинг:"
   ]
  },
  {
   "cell_type": "code",
   "execution_count": 12,
   "metadata": {},
   "outputs": [],
   "source": [
    "vendors_list = ['volkswagen', 'audi', 'bmw','toyota','mercedes','skoda','nissan','mitsubishi','volvo','honda','lexus','infiniti','suzuki']"
   ]
  },
  {
   "cell_type": "code",
   "execution_count": 8,
   "metadata": {},
   "outputs": [],
   "source": [
    "def search_url(vendor):\n",
    "    location = 'moskva'\n",
    "    model = 'all'\n",
    "    url = f\"https://auto.ru/{location}/cars/{vendor}/{model}\"\n",
    "    return url\n"
   ]
  },
  {
   "cell_type": "code",
   "execution_count": 9,
   "metadata": {},
   "outputs": [],
   "source": [
    "#Функция парсит данные с нескольких страниц\n",
    "#%%timeit\n",
    "# this func returns dataframe with offers.\n",
    "list_autos = []\n",
    "def get_autoru_offers_all(u):\n",
    "\n",
    "#    autos = pd.DataFrame(list_autos)\n",
    "    \n",
    "    response = requests.get(u)\n",
    "    soup = BeautifulSoup(response.content.decode('utf-8'), \"html.parser\")\n",
    "\n",
    "    module_list = soup.find(\"div\", class_= \"ListingCars-module__container ListingCars-module__list\")\n",
    "    children = module_list.findChildren(\"div\", recursive=False)\n",
    "    for child in children:\n",
    "        metas = child.find_all(\"meta\")\n",
    "        offer = {}\n",
    "        for meta in metas:\n",
    "            key = meta.get('itemprop')\n",
    "            value = meta.get('content')\n",
    "            offer.update({key: value}) #parse parameters except mileage\n",
    "                \n",
    "        miles = child.find(\"div\", {'class': 'ListingItem-module__kmAge'})\n",
    "        offer.update({'mileage': miles}) #parse mileage\n",
    "        list_autos.append(offer)\n",
    "\n",
    "    next_page = soup.find('link', attrs={'rel': 'next'})\n",
    "    if next_page is not None:\n",
    "#           # If there is \"NEXT\" button => continue parsing to the next page\n",
    "        time.sleep(2)\n",
    "        next_url = next_page['href']\n",
    "        get_autoru_offers_all(next_url)\n",
    "    \n",
    "    autos = pd.DataFrame(list_autos)\n",
    "    autos = autos.drop(['image', 'availability', 'priceCurrency', 'url'], 1)\n",
    "    autos.dropna(axis=0, inplace=True) #drop rows with missed values\n",
    "    \n",
    "    return autos"
   ]
  },
  {
   "cell_type": "markdown",
   "metadata": {},
   "source": [
    "Парсинг одной страницы занимает порядка 2-3 сек\n",
    "\n",
    "Цикл по маркам авто не отрабатывает - слишком много ресурсов - парсила по каждой марке отдельно"
   ]
  },
  {
   "cell_type": "code",
   "execution_count": 10,
   "metadata": {},
   "outputs": [
    {
     "data": {
      "text/plain": [
       "(3663, 14)"
      ]
     },
     "execution_count": 10,
     "metadata": {},
     "output_type": "execute_result"
    }
   ],
   "source": [
    "#vw\n",
    "list_autos = []\n",
    "u = search_url('volkswagen')\n",
    "train_vw = get_autoru_offers_all(u)\n",
    "train_vw.shape"
   ]
  },
  {
   "cell_type": "code",
   "execution_count": 19,
   "metadata": {},
   "outputs": [
    {
     "data": {
      "text/html": [
       "<div>\n",
       "<style scoped>\n",
       "    .dataframe tbody tr th:only-of-type {\n",
       "        vertical-align: middle;\n",
       "    }\n",
       "\n",
       "    .dataframe tbody tr th {\n",
       "        vertical-align: top;\n",
       "    }\n",
       "\n",
       "    .dataframe thead th {\n",
       "        text-align: right;\n",
       "    }\n",
       "</style>\n",
       "<table border=\"1\" class=\"dataframe\">\n",
       "  <thead>\n",
       "    <tr style=\"text-align: right;\">\n",
       "      <th></th>\n",
       "      <th>mileage</th>\n",
       "      <th>bodyType</th>\n",
       "      <th>brand</th>\n",
       "      <th>color</th>\n",
       "      <th>fuelType</th>\n",
       "      <th>modelDate</th>\n",
       "      <th>name</th>\n",
       "      <th>numberOfDoors</th>\n",
       "      <th>productionDate</th>\n",
       "      <th>vehicleConfiguration</th>\n",
       "      <th>vehicleTransmission</th>\n",
       "      <th>price</th>\n",
       "      <th>engineDisplacement</th>\n",
       "      <th>enginePower</th>\n",
       "    </tr>\n",
       "  </thead>\n",
       "  <tbody>\n",
       "    <tr>\n",
       "      <th>843</th>\n",
       "      <td>[102 647 км]</td>\n",
       "      <td>компактвэн</td>\n",
       "      <td>VOLKSWAGEN</td>\n",
       "      <td>синий</td>\n",
       "      <td>бензин</td>\n",
       "      <td>2010</td>\n",
       "      <td>1.2 MT</td>\n",
       "      <td>4</td>\n",
       "      <td>2013</td>\n",
       "      <td>COMPACTVAN MECHANICAL 1.2</td>\n",
       "      <td>механическая</td>\n",
       "      <td>555000</td>\n",
       "      <td>1.2 LTR</td>\n",
       "      <td>86 N12</td>\n",
       "    </tr>\n",
       "  </tbody>\n",
       "</table>\n",
       "</div>"
      ],
      "text/plain": [
       "          mileage    bodyType       brand  color fuelType modelDate    name  \\\n",
       "843  [102 647 км]  компактвэн  VOLKSWAGEN  синий   бензин      2010  1.2 MT   \n",
       "\n",
       "    numberOfDoors productionDate       vehicleConfiguration  \\\n",
       "843             4           2013  COMPACTVAN MECHANICAL 1.2   \n",
       "\n",
       "    vehicleTransmission   price engineDisplacement enginePower  \n",
       "843        механическая  555000            1.2 LTR      86 N12  "
      ]
     },
     "execution_count": 19,
     "metadata": {},
     "output_type": "execute_result"
    }
   ],
   "source": [
    "train_vw.sample()"
   ]
  },
  {
   "cell_type": "code",
   "execution_count": 16,
   "metadata": {},
   "outputs": [
    {
     "data": {
      "text/plain": [
       "(3663, 14)"
      ]
     },
     "execution_count": 16,
     "metadata": {},
     "output_type": "execute_result"
    }
   ],
   "source": [
    "#audi\n",
    "list_autos = []\n",
    "u = search_url('audi')\n",
    "train_audi = get_autoru_offers_all(u)\n",
    "train_audi.shape"
   ]
  },
  {
   "cell_type": "code",
   "execution_count": 18,
   "metadata": {
    "scrolled": true
   },
   "outputs": [
    {
     "data": {
      "text/html": [
       "<div>\n",
       "<style scoped>\n",
       "    .dataframe tbody tr th:only-of-type {\n",
       "        vertical-align: middle;\n",
       "    }\n",
       "\n",
       "    .dataframe tbody tr th {\n",
       "        vertical-align: top;\n",
       "    }\n",
       "\n",
       "    .dataframe thead th {\n",
       "        text-align: right;\n",
       "    }\n",
       "</style>\n",
       "<table border=\"1\" class=\"dataframe\">\n",
       "  <thead>\n",
       "    <tr style=\"text-align: right;\">\n",
       "      <th></th>\n",
       "      <th>mileage</th>\n",
       "      <th>bodyType</th>\n",
       "      <th>brand</th>\n",
       "      <th>color</th>\n",
       "      <th>fuelType</th>\n",
       "      <th>modelDate</th>\n",
       "      <th>name</th>\n",
       "      <th>numberOfDoors</th>\n",
       "      <th>productionDate</th>\n",
       "      <th>vehicleConfiguration</th>\n",
       "      <th>vehicleTransmission</th>\n",
       "      <th>price</th>\n",
       "      <th>engineDisplacement</th>\n",
       "      <th>enginePower</th>\n",
       "    </tr>\n",
       "  </thead>\n",
       "  <tbody>\n",
       "    <tr>\n",
       "      <th>1188</th>\n",
       "      <td>[19 539 км]</td>\n",
       "      <td>седан</td>\n",
       "      <td>AUDI</td>\n",
       "      <td>серый</td>\n",
       "      <td>бензин</td>\n",
       "      <td>2017</td>\n",
       "      <td>3.0 AT</td>\n",
       "      <td>4</td>\n",
       "      <td>2018</td>\n",
       "      <td>SEDAN AUTOMATIC 3.0</td>\n",
       "      <td>автоматическая</td>\n",
       "      <td>4820000</td>\n",
       "      <td>3.0 LTR</td>\n",
       "      <td>340 N12</td>\n",
       "    </tr>\n",
       "  </tbody>\n",
       "</table>\n",
       "</div>"
      ],
      "text/plain": [
       "          mileage bodyType brand  color fuelType modelDate    name  \\\n",
       "1188  [19 539 км]    седан  AUDI  серый   бензин      2017  3.0 AT   \n",
       "\n",
       "     numberOfDoors productionDate vehicleConfiguration vehicleTransmission  \\\n",
       "1188             4           2018  SEDAN AUTOMATIC 3.0      автоматическая   \n",
       "\n",
       "        price engineDisplacement enginePower  \n",
       "1188  4820000            3.0 LTR     340 N12  "
      ]
     },
     "execution_count": 18,
     "metadata": {},
     "output_type": "execute_result"
    }
   ],
   "source": [
    "train_audi.sample()"
   ]
  },
  {
   "cell_type": "code",
   "execution_count": 47,
   "metadata": {},
   "outputs": [
    {
     "data": {
      "text/plain": [
       "(3663, 14)"
      ]
     },
     "execution_count": 47,
     "metadata": {},
     "output_type": "execute_result"
    }
   ],
   "source": [
    "#bmw\n",
    "list_autos = []\n",
    "u = search_url('bmw')\n",
    "train_bmw = get_autoru_offers_all(u)\n",
    "train_bmw.shape"
   ]
  },
  {
   "cell_type": "code",
   "execution_count": 48,
   "metadata": {
    "scrolled": true
   },
   "outputs": [
    {
     "data": {
      "text/html": [
       "<div>\n",
       "<style scoped>\n",
       "    .dataframe tbody tr th:only-of-type {\n",
       "        vertical-align: middle;\n",
       "    }\n",
       "\n",
       "    .dataframe tbody tr th {\n",
       "        vertical-align: top;\n",
       "    }\n",
       "\n",
       "    .dataframe thead th {\n",
       "        text-align: right;\n",
       "    }\n",
       "</style>\n",
       "<table border=\"1\" class=\"dataframe\">\n",
       "  <thead>\n",
       "    <tr style=\"text-align: right;\">\n",
       "      <th></th>\n",
       "      <th>mileage</th>\n",
       "      <th>bodyType</th>\n",
       "      <th>brand</th>\n",
       "      <th>color</th>\n",
       "      <th>fuelType</th>\n",
       "      <th>modelDate</th>\n",
       "      <th>name</th>\n",
       "      <th>numberOfDoors</th>\n",
       "      <th>productionDate</th>\n",
       "      <th>vehicleConfiguration</th>\n",
       "      <th>vehicleTransmission</th>\n",
       "      <th>price</th>\n",
       "      <th>engineDisplacement</th>\n",
       "      <th>enginePower</th>\n",
       "    </tr>\n",
       "  </thead>\n",
       "  <tbody>\n",
       "    <tr>\n",
       "      <th>3886</th>\n",
       "      <td>[Новый]</td>\n",
       "      <td>внедорожник 5 дв.</td>\n",
       "      <td>BMW</td>\n",
       "      <td>синий</td>\n",
       "      <td>дизель</td>\n",
       "      <td>2019</td>\n",
       "      <td>2.0 AT</td>\n",
       "      <td>5</td>\n",
       "      <td>2020</td>\n",
       "      <td>ALLROAD_5_DOORS AUTOMATIC 2.0</td>\n",
       "      <td>автоматическая</td>\n",
       "      <td>2940900</td>\n",
       "      <td>2.0 LTR</td>\n",
       "      <td>150 N12</td>\n",
       "    </tr>\n",
       "  </tbody>\n",
       "</table>\n",
       "</div>"
      ],
      "text/plain": [
       "      mileage           bodyType brand  color fuelType modelDate    name  \\\n",
       "3886  [Новый]  внедорожник 5 дв.   BMW  синий   дизель      2019  2.0 AT   \n",
       "\n",
       "     numberOfDoors productionDate           vehicleConfiguration  \\\n",
       "3886             5           2020  ALLROAD_5_DOORS AUTOMATIC 2.0   \n",
       "\n",
       "     vehicleTransmission    price engineDisplacement enginePower  \n",
       "3886      автоматическая  2940900            2.0 LTR     150 N12  "
      ]
     },
     "execution_count": 48,
     "metadata": {},
     "output_type": "execute_result"
    }
   ],
   "source": [
    "train_bmw.sample()"
   ]
  },
  {
   "cell_type": "code",
   "execution_count": null,
   "metadata": {},
   "outputs": [],
   "source": [
    "#toyota\n",
    "list_autos = []\n",
    "u = search_url('toyota')\n",
    "train_toyota = get_autoru_offers_all(u)\n",
    "train_toyota.shape"
   ]
  },
  {
   "cell_type": "code",
   "execution_count": null,
   "metadata": {},
   "outputs": [],
   "source": [
    "train_toyota.sample()"
   ]
  },
  {
   "cell_type": "code",
   "execution_count": null,
   "metadata": {},
   "outputs": [],
   "source": [
    "#mercedes\n",
    "list_autos = []\n",
    "u = search_url('mercedes')\n",
    "train_merc = get_autoru_offers_all(u)\n",
    "train_merc.shape"
   ]
  },
  {
   "cell_type": "code",
   "execution_count": null,
   "metadata": {},
   "outputs": [],
   "source": [
    "train_merc.sample()"
   ]
  },
  {
   "cell_type": "code",
   "execution_count": null,
   "metadata": {},
   "outputs": [],
   "source": [
    "#skoda\n",
    "list_autos = []\n",
    "u = search_url('skoda')\n",
    "train_skoda = get_autoru_offers_all(u)\n",
    "train_skoda.shape"
   ]
  },
  {
   "cell_type": "code",
   "execution_count": null,
   "metadata": {},
   "outputs": [],
   "source": [
    "train_skoda.sample()"
   ]
  },
  {
   "cell_type": "code",
   "execution_count": null,
   "metadata": {},
   "outputs": [],
   "source": [
    "#nissan\n",
    "list_autos = []\n",
    "u = search_url('nissan')\n",
    "train_nissan = get_autoru_offers_all(u)\n",
    "train_nissan.shape"
   ]
  },
  {
   "cell_type": "code",
   "execution_count": null,
   "metadata": {},
   "outputs": [],
   "source": [
    "train_nissan.sample()"
   ]
  },
  {
   "cell_type": "code",
   "execution_count": 20,
   "metadata": {},
   "outputs": [
    {
     "data": {
      "text/plain": [
       "(3663, 14)"
      ]
     },
     "execution_count": 20,
     "metadata": {},
     "output_type": "execute_result"
    }
   ],
   "source": [
    "#'mitsubishi'\n",
    "list_autos = []\n",
    "u = search_url('mitsubishi')\n",
    "train_mits = get_autoru_offers_all(u)\n",
    "train_mits.shape"
   ]
  },
  {
   "cell_type": "code",
   "execution_count": 22,
   "metadata": {},
   "outputs": [
    {
     "data": {
      "text/html": [
       "<div>\n",
       "<style scoped>\n",
       "    .dataframe tbody tr th:only-of-type {\n",
       "        vertical-align: middle;\n",
       "    }\n",
       "\n",
       "    .dataframe tbody tr th {\n",
       "        vertical-align: top;\n",
       "    }\n",
       "\n",
       "    .dataframe thead th {\n",
       "        text-align: right;\n",
       "    }\n",
       "</style>\n",
       "<table border=\"1\" class=\"dataframe\">\n",
       "  <thead>\n",
       "    <tr style=\"text-align: right;\">\n",
       "      <th></th>\n",
       "      <th>mileage</th>\n",
       "      <th>bodyType</th>\n",
       "      <th>brand</th>\n",
       "      <th>color</th>\n",
       "      <th>fuelType</th>\n",
       "      <th>modelDate</th>\n",
       "      <th>name</th>\n",
       "      <th>numberOfDoors</th>\n",
       "      <th>productionDate</th>\n",
       "      <th>vehicleConfiguration</th>\n",
       "      <th>vehicleTransmission</th>\n",
       "      <th>price</th>\n",
       "      <th>engineDisplacement</th>\n",
       "      <th>enginePower</th>\n",
       "    </tr>\n",
       "  </thead>\n",
       "  <tbody>\n",
       "    <tr>\n",
       "      <th>3390</th>\n",
       "      <td>[150 000 км]</td>\n",
       "      <td>универсал 5 дв.</td>\n",
       "      <td>MITSUBISHI</td>\n",
       "      <td>серебристый</td>\n",
       "      <td>бензин</td>\n",
       "      <td>2005</td>\n",
       "      <td>1.6 MT</td>\n",
       "      <td>5</td>\n",
       "      <td>2007</td>\n",
       "      <td>WAGON_5_DOORS MECHANICAL 1.6</td>\n",
       "      <td>механическая</td>\n",
       "      <td>400000</td>\n",
       "      <td>1.6 LTR</td>\n",
       "      <td>98 N12</td>\n",
       "    </tr>\n",
       "  </tbody>\n",
       "</table>\n",
       "</div>"
      ],
      "text/plain": [
       "           mileage         bodyType       brand        color fuelType  \\\n",
       "3390  [150 000 км]  универсал 5 дв.  MITSUBISHI  серебристый   бензин   \n",
       "\n",
       "     modelDate    name numberOfDoors productionDate  \\\n",
       "3390      2005  1.6 MT             5           2007   \n",
       "\n",
       "              vehicleConfiguration vehicleTransmission   price  \\\n",
       "3390  WAGON_5_DOORS MECHANICAL 1.6        механическая  400000   \n",
       "\n",
       "     engineDisplacement enginePower  \n",
       "3390            1.6 LTR      98 N12  "
      ]
     },
     "execution_count": 22,
     "metadata": {},
     "output_type": "execute_result"
    }
   ],
   "source": [
    "train_mits.sample()"
   ]
  },
  {
   "cell_type": "code",
   "execution_count": 23,
   "metadata": {},
   "outputs": [
    {
     "data": {
      "text/plain": [
       "(2484, 14)"
      ]
     },
     "execution_count": 23,
     "metadata": {},
     "output_type": "execute_result"
    }
   ],
   "source": [
    "#volvo\n",
    "list_autos = []\n",
    "u = search_url('volvo')\n",
    "train_volvo = get_autoru_offers_all(u)\n",
    "train_volvo.shape"
   ]
  },
  {
   "cell_type": "code",
   "execution_count": 25,
   "metadata": {},
   "outputs": [
    {
     "data": {
      "text/html": [
       "<div>\n",
       "<style scoped>\n",
       "    .dataframe tbody tr th:only-of-type {\n",
       "        vertical-align: middle;\n",
       "    }\n",
       "\n",
       "    .dataframe tbody tr th {\n",
       "        vertical-align: top;\n",
       "    }\n",
       "\n",
       "    .dataframe thead th {\n",
       "        text-align: right;\n",
       "    }\n",
       "</style>\n",
       "<table border=\"1\" class=\"dataframe\">\n",
       "  <thead>\n",
       "    <tr style=\"text-align: right;\">\n",
       "      <th></th>\n",
       "      <th>mileage</th>\n",
       "      <th>bodyType</th>\n",
       "      <th>brand</th>\n",
       "      <th>color</th>\n",
       "      <th>fuelType</th>\n",
       "      <th>modelDate</th>\n",
       "      <th>name</th>\n",
       "      <th>numberOfDoors</th>\n",
       "      <th>productionDate</th>\n",
       "      <th>vehicleConfiguration</th>\n",
       "      <th>vehicleTransmission</th>\n",
       "      <th>price</th>\n",
       "      <th>engineDisplacement</th>\n",
       "      <th>enginePower</th>\n",
       "    </tr>\n",
       "  </thead>\n",
       "  <tbody>\n",
       "    <tr>\n",
       "      <th>1145</th>\n",
       "      <td>[Новый]</td>\n",
       "      <td>универсал 5 дв.</td>\n",
       "      <td>VOLVO</td>\n",
       "      <td>белый</td>\n",
       "      <td>бензин</td>\n",
       "      <td>2018</td>\n",
       "      <td>2.0 AT</td>\n",
       "      <td>5</td>\n",
       "      <td>2020</td>\n",
       "      <td>WAGON_5_DOORS AUTOMATIC 2.0</td>\n",
       "      <td>автоматическая</td>\n",
       "      <td>3325600</td>\n",
       "      <td>2.0 LTR</td>\n",
       "      <td>250 N12</td>\n",
       "    </tr>\n",
       "  </tbody>\n",
       "</table>\n",
       "</div>"
      ],
      "text/plain": [
       "      mileage         bodyType  brand  color fuelType modelDate    name  \\\n",
       "1145  [Новый]  универсал 5 дв.  VOLVO  белый   бензин      2018  2.0 AT   \n",
       "\n",
       "     numberOfDoors productionDate         vehicleConfiguration  \\\n",
       "1145             5           2020  WAGON_5_DOORS AUTOMATIC 2.0   \n",
       "\n",
       "     vehicleTransmission    price engineDisplacement enginePower  \n",
       "1145      автоматическая  3325600            2.0 LTR     250 N12  "
      ]
     },
     "execution_count": 25,
     "metadata": {},
     "output_type": "execute_result"
    }
   ],
   "source": [
    "train_volvo.sample()"
   ]
  },
  {
   "cell_type": "code",
   "execution_count": 26,
   "metadata": {},
   "outputs": [
    {
     "data": {
      "text/plain": [
       "(1779, 14)"
      ]
     },
     "execution_count": 26,
     "metadata": {},
     "output_type": "execute_result"
    }
   ],
   "source": [
    "#honda\n",
    "list_autos = []\n",
    "u = search_url('honda')\n",
    "train_honda = get_autoru_offers_all(u)\n",
    "train_honda.shape"
   ]
  },
  {
   "cell_type": "code",
   "execution_count": 27,
   "metadata": {},
   "outputs": [
    {
     "data": {
      "text/html": [
       "<div>\n",
       "<style scoped>\n",
       "    .dataframe tbody tr th:only-of-type {\n",
       "        vertical-align: middle;\n",
       "    }\n",
       "\n",
       "    .dataframe tbody tr th {\n",
       "        vertical-align: top;\n",
       "    }\n",
       "\n",
       "    .dataframe thead th {\n",
       "        text-align: right;\n",
       "    }\n",
       "</style>\n",
       "<table border=\"1\" class=\"dataframe\">\n",
       "  <thead>\n",
       "    <tr style=\"text-align: right;\">\n",
       "      <th></th>\n",
       "      <th>mileage</th>\n",
       "      <th>bodyType</th>\n",
       "      <th>brand</th>\n",
       "      <th>color</th>\n",
       "      <th>fuelType</th>\n",
       "      <th>modelDate</th>\n",
       "      <th>name</th>\n",
       "      <th>numberOfDoors</th>\n",
       "      <th>productionDate</th>\n",
       "      <th>vehicleConfiguration</th>\n",
       "      <th>vehicleTransmission</th>\n",
       "      <th>price</th>\n",
       "      <th>engineDisplacement</th>\n",
       "      <th>enginePower</th>\n",
       "    </tr>\n",
       "  </thead>\n",
       "  <tbody>\n",
       "    <tr>\n",
       "      <th>822</th>\n",
       "      <td>[125 839 км]</td>\n",
       "      <td>внедорожник 5 дв.</td>\n",
       "      <td>HONDA</td>\n",
       "      <td>коричневый</td>\n",
       "      <td>бензин</td>\n",
       "      <td>2012</td>\n",
       "      <td>2.4 AT</td>\n",
       "      <td>5</td>\n",
       "      <td>2014</td>\n",
       "      <td>ALLROAD_5_DOORS AUTOMATIC 2.4</td>\n",
       "      <td>автоматическая</td>\n",
       "      <td>1315000</td>\n",
       "      <td>2.4 LTR</td>\n",
       "      <td>190 N12</td>\n",
       "    </tr>\n",
       "  </tbody>\n",
       "</table>\n",
       "</div>"
      ],
      "text/plain": [
       "          mileage           bodyType  brand       color fuelType modelDate  \\\n",
       "822  [125 839 км]  внедорожник 5 дв.  HONDA  коричневый   бензин      2012   \n",
       "\n",
       "       name numberOfDoors productionDate           vehicleConfiguration  \\\n",
       "822  2.4 AT             5           2014  ALLROAD_5_DOORS AUTOMATIC 2.4   \n",
       "\n",
       "    vehicleTransmission    price engineDisplacement enginePower  \n",
       "822      автоматическая  1315000            2.4 LTR     190 N12  "
      ]
     },
     "execution_count": 27,
     "metadata": {},
     "output_type": "execute_result"
    }
   ],
   "source": [
    "train_honda.sample()"
   ]
  },
  {
   "cell_type": "code",
   "execution_count": 28,
   "metadata": {},
   "outputs": [
    {
     "data": {
      "text/plain": [
       "(1748, 14)"
      ]
     },
     "execution_count": 28,
     "metadata": {},
     "output_type": "execute_result"
    }
   ],
   "source": [
    "#lexus\n",
    "list_autos = []\n",
    "u = search_url('lexus')\n",
    "train_lexus = get_autoru_offers_all(u)\n",
    "train_lexus.shape"
   ]
  },
  {
   "cell_type": "code",
   "execution_count": 30,
   "metadata": {},
   "outputs": [
    {
     "data": {
      "text/html": [
       "<div>\n",
       "<style scoped>\n",
       "    .dataframe tbody tr th:only-of-type {\n",
       "        vertical-align: middle;\n",
       "    }\n",
       "\n",
       "    .dataframe tbody tr th {\n",
       "        vertical-align: top;\n",
       "    }\n",
       "\n",
       "    .dataframe thead th {\n",
       "        text-align: right;\n",
       "    }\n",
       "</style>\n",
       "<table border=\"1\" class=\"dataframe\">\n",
       "  <thead>\n",
       "    <tr style=\"text-align: right;\">\n",
       "      <th></th>\n",
       "      <th>mileage</th>\n",
       "      <th>bodyType</th>\n",
       "      <th>brand</th>\n",
       "      <th>color</th>\n",
       "      <th>fuelType</th>\n",
       "      <th>modelDate</th>\n",
       "      <th>name</th>\n",
       "      <th>numberOfDoors</th>\n",
       "      <th>productionDate</th>\n",
       "      <th>vehicleConfiguration</th>\n",
       "      <th>vehicleTransmission</th>\n",
       "      <th>price</th>\n",
       "      <th>engineDisplacement</th>\n",
       "      <th>enginePower</th>\n",
       "    </tr>\n",
       "  </thead>\n",
       "  <tbody>\n",
       "    <tr>\n",
       "      <th>895</th>\n",
       "      <td>[250 000 км]</td>\n",
       "      <td>внедорожник 5 дв.</td>\n",
       "      <td>LEXUS</td>\n",
       "      <td>белый</td>\n",
       "      <td>бензин</td>\n",
       "      <td>2009</td>\n",
       "      <td>4.6 AT</td>\n",
       "      <td>5</td>\n",
       "      <td>2012</td>\n",
       "      <td>ALLROAD_5_DOORS AUTOMATIC 4.6</td>\n",
       "      <td>автоматическая</td>\n",
       "      <td>1850000</td>\n",
       "      <td>4.6 LTR</td>\n",
       "      <td>296 N12</td>\n",
       "    </tr>\n",
       "  </tbody>\n",
       "</table>\n",
       "</div>"
      ],
      "text/plain": [
       "          mileage           bodyType  brand  color fuelType modelDate    name  \\\n",
       "895  [250 000 км]  внедорожник 5 дв.  LEXUS  белый   бензин      2009  4.6 AT   \n",
       "\n",
       "    numberOfDoors productionDate           vehicleConfiguration  \\\n",
       "895             5           2012  ALLROAD_5_DOORS AUTOMATIC 4.6   \n",
       "\n",
       "    vehicleTransmission    price engineDisplacement enginePower  \n",
       "895      автоматическая  1850000            4.6 LTR     296 N12  "
      ]
     },
     "execution_count": 30,
     "metadata": {},
     "output_type": "execute_result"
    }
   ],
   "source": [
    "train_lexus.sample()"
   ]
  },
  {
   "cell_type": "code",
   "execution_count": 32,
   "metadata": {},
   "outputs": [
    {
     "data": {
      "text/plain": [
       "(1687, 14)"
      ]
     },
     "execution_count": 32,
     "metadata": {},
     "output_type": "execute_result"
    }
   ],
   "source": [
    "#infiniti\n",
    "list_autos = []\n",
    "u = search_url('infiniti')\n",
    "train_inf = get_autoru_offers_all(u)\n",
    "train_inf.shape"
   ]
  },
  {
   "cell_type": "code",
   "execution_count": 33,
   "metadata": {},
   "outputs": [
    {
     "data": {
      "text/html": [
       "<div>\n",
       "<style scoped>\n",
       "    .dataframe tbody tr th:only-of-type {\n",
       "        vertical-align: middle;\n",
       "    }\n",
       "\n",
       "    .dataframe tbody tr th {\n",
       "        vertical-align: top;\n",
       "    }\n",
       "\n",
       "    .dataframe thead th {\n",
       "        text-align: right;\n",
       "    }\n",
       "</style>\n",
       "<table border=\"1\" class=\"dataframe\">\n",
       "  <thead>\n",
       "    <tr style=\"text-align: right;\">\n",
       "      <th></th>\n",
       "      <th>mileage</th>\n",
       "      <th>bodyType</th>\n",
       "      <th>brand</th>\n",
       "      <th>color</th>\n",
       "      <th>fuelType</th>\n",
       "      <th>modelDate</th>\n",
       "      <th>name</th>\n",
       "      <th>numberOfDoors</th>\n",
       "      <th>productionDate</th>\n",
       "      <th>vehicleConfiguration</th>\n",
       "      <th>vehicleTransmission</th>\n",
       "      <th>price</th>\n",
       "      <th>engineDisplacement</th>\n",
       "      <th>enginePower</th>\n",
       "    </tr>\n",
       "  </thead>\n",
       "  <tbody>\n",
       "    <tr>\n",
       "      <th>358</th>\n",
       "      <td>[Новый]</td>\n",
       "      <td>внедорожник 5 дв.</td>\n",
       "      <td>INFINITI</td>\n",
       "      <td>чёрный</td>\n",
       "      <td>бензин</td>\n",
       "      <td>2016</td>\n",
       "      <td>3.5 CVT</td>\n",
       "      <td>5</td>\n",
       "      <td>2019</td>\n",
       "      <td>ALLROAD_5_DOORS VARIATOR 3.5</td>\n",
       "      <td>вариатор</td>\n",
       "      <td>3420000</td>\n",
       "      <td>3.5 LTR</td>\n",
       "      <td>283 N12</td>\n",
       "    </tr>\n",
       "  </tbody>\n",
       "</table>\n",
       "</div>"
      ],
      "text/plain": [
       "     mileage           bodyType     brand   color fuelType modelDate     name  \\\n",
       "358  [Новый]  внедорожник 5 дв.  INFINITI  чёрный   бензин      2016  3.5 CVT   \n",
       "\n",
       "    numberOfDoors productionDate          vehicleConfiguration  \\\n",
       "358             5           2019  ALLROAD_5_DOORS VARIATOR 3.5   \n",
       "\n",
       "    vehicleTransmission    price engineDisplacement enginePower  \n",
       "358            вариатор  3420000            3.5 LTR     283 N12  "
      ]
     },
     "execution_count": 33,
     "metadata": {},
     "output_type": "execute_result"
    }
   ],
   "source": [
    "train_inf.sample()"
   ]
  },
  {
   "cell_type": "code",
   "execution_count": 34,
   "metadata": {},
   "outputs": [
    {
     "data": {
      "text/plain": [
       "(1113, 14)"
      ]
     },
     "execution_count": 34,
     "metadata": {},
     "output_type": "execute_result"
    }
   ],
   "source": [
    "#suzuki\n",
    "list_autos = []\n",
    "u = search_url('suzuki')\n",
    "train_suz = get_autoru_offers_all(u)\n",
    "train_suz.shape"
   ]
  },
  {
   "cell_type": "code",
   "execution_count": 38,
   "metadata": {
    "scrolled": true
   },
   "outputs": [
    {
     "data": {
      "text/html": [
       "<div>\n",
       "<style scoped>\n",
       "    .dataframe tbody tr th:only-of-type {\n",
       "        vertical-align: middle;\n",
       "    }\n",
       "\n",
       "    .dataframe tbody tr th {\n",
       "        vertical-align: top;\n",
       "    }\n",
       "\n",
       "    .dataframe thead th {\n",
       "        text-align: right;\n",
       "    }\n",
       "</style>\n",
       "<table border=\"1\" class=\"dataframe\">\n",
       "  <thead>\n",
       "    <tr style=\"text-align: right;\">\n",
       "      <th></th>\n",
       "      <th>mileage</th>\n",
       "      <th>bodyType</th>\n",
       "      <th>brand</th>\n",
       "      <th>color</th>\n",
       "      <th>fuelType</th>\n",
       "      <th>modelDate</th>\n",
       "      <th>name</th>\n",
       "      <th>numberOfDoors</th>\n",
       "      <th>productionDate</th>\n",
       "      <th>vehicleConfiguration</th>\n",
       "      <th>vehicleTransmission</th>\n",
       "      <th>price</th>\n",
       "      <th>engineDisplacement</th>\n",
       "      <th>enginePower</th>\n",
       "    </tr>\n",
       "  </thead>\n",
       "  <tbody>\n",
       "    <tr>\n",
       "      <th>848</th>\n",
       "      <td>[151 363 км]</td>\n",
       "      <td>хэтчбек 5 дв.</td>\n",
       "      <td>SUZUKI</td>\n",
       "      <td>коричневый</td>\n",
       "      <td>бензин</td>\n",
       "      <td>2013</td>\n",
       "      <td>1.6 CVT</td>\n",
       "      <td>5</td>\n",
       "      <td>2014</td>\n",
       "      <td>HATCHBACK_5_DOORS VARIATOR 1.6</td>\n",
       "      <td>вариатор</td>\n",
       "      <td>549000</td>\n",
       "      <td>1.6 LTR</td>\n",
       "      <td>117 N12</td>\n",
       "    </tr>\n",
       "  </tbody>\n",
       "</table>\n",
       "</div>"
      ],
      "text/plain": [
       "          mileage       bodyType   brand       color fuelType modelDate  \\\n",
       "848  [151 363 км]  хэтчбек 5 дв.  SUZUKI  коричневый   бензин      2013   \n",
       "\n",
       "        name numberOfDoors productionDate            vehicleConfiguration  \\\n",
       "848  1.6 CVT             5           2014  HATCHBACK_5_DOORS VARIATOR 1.6   \n",
       "\n",
       "    vehicleTransmission   price engineDisplacement enginePower  \n",
       "848            вариатор  549000            1.6 LTR     117 N12  "
      ]
     },
     "execution_count": 38,
     "metadata": {},
     "output_type": "execute_result"
    }
   ],
   "source": [
    "train_suz.sample()"
   ]
  },
  {
   "cell_type": "markdown",
   "metadata": {},
   "source": [
    "Данные предварительно сохранены в два файла, код далее собирает их вместе и немного обрабатывает столбцы"
   ]
  },
  {
   "cell_type": "code",
   "execution_count": 3,
   "metadata": {},
   "outputs": [],
   "source": [
    "df1 = pd.read_csv('train_vw_audi_mit_volvo_honda_lexus_inf_suz.csv')\n",
    "df2 = pd.read_csv('train_bmw_nissan.csv')"
   ]
  },
  {
   "cell_type": "code",
   "execution_count": 7,
   "metadata": {
    "collapsed": true
   },
   "outputs": [
    {
     "data": {
      "text/plain": [
       "MITSUBISHI    3663\n",
       "AUDI          3663\n",
       "VOLKSWAGEN    3663\n",
       "VOLVO         2484\n",
       "HONDA         1779\n",
       "LEXUS         1748\n",
       "INFINITI      1687\n",
       "SUZUKI        1113\n",
       "Name: brand, dtype: int64"
      ]
     },
     "execution_count": 7,
     "metadata": {},
     "output_type": "execute_result"
    }
   ],
   "source": [
    "df1['brand'].value_counts()"
   ]
  },
  {
   "cell_type": "code",
   "execution_count": 8,
   "metadata": {
    "collapsed": true
   },
   "outputs": [
    {
     "data": {
      "text/plain": [
       "TOYOTA      3663\n",
       "SKODA       3663\n",
       "BMW         3663\n",
       "MERCEDES    3663\n",
       "NISSAN      3663\n",
       "Name: brand, dtype: int64"
      ]
     },
     "execution_count": 8,
     "metadata": {},
     "output_type": "execute_result"
    }
   ],
   "source": [
    "df2['brand'].value_counts()"
   ]
  },
  {
   "cell_type": "code",
   "execution_count": 10,
   "metadata": {},
   "outputs": [
    {
     "data": {
      "text/plain": [
       "TOYOTA        3663\n",
       "SKODA         3663\n",
       "BMW           3663\n",
       "NISSAN        3663\n",
       "MITSUBISHI    3663\n",
       "AUDI          3663\n",
       "VOLKSWAGEN    3663\n",
       "MERCEDES      3663\n",
       "VOLVO         2484\n",
       "HONDA         1779\n",
       "LEXUS         1748\n",
       "INFINITI      1687\n",
       "SUZUKI        1113\n",
       "Name: brand, dtype: int64"
      ]
     },
     "execution_count": 10,
     "metadata": {},
     "output_type": "execute_result"
    }
   ],
   "source": [
    "df = pd.concat([df1, df2], axis = 0, join = 'outer', ignore_index = False)\n",
    "df['brand'].value_counts()"
   ]
  },
  {
   "cell_type": "code",
   "execution_count": 19,
   "metadata": {},
   "outputs": [
    {
     "data": {
      "text/plain": [
       "Index(['Unnamed: 0', 'mileage', 'bodyType', 'brand', 'color', 'fuelType',\n",
       "       'modelDate', 'name', 'numberOfDoors', 'productionDate',\n",
       "       'vehicleConfiguration', 'vehicleTransmission', 'price',\n",
       "       'engineDisplacement', 'enginePower'],\n",
       "      dtype='object')"
      ]
     },
     "execution_count": 19,
     "metadata": {},
     "output_type": "execute_result"
    }
   ],
   "source": [
    "df.columns"
   ]
  },
  {
   "cell_type": "code",
   "execution_count": 31,
   "metadata": {},
   "outputs": [],
   "source": [
    "df_final = df.drop('Unnamed: 0', axis = 1)"
   ]
  },
  {
   "cell_type": "code",
   "execution_count": 32,
   "metadata": {
    "scrolled": false
   },
   "outputs": [
    {
     "data": {
      "text/html": [
       "<div>\n",
       "<style scoped>\n",
       "    .dataframe tbody tr th:only-of-type {\n",
       "        vertical-align: middle;\n",
       "    }\n",
       "\n",
       "    .dataframe tbody tr th {\n",
       "        vertical-align: top;\n",
       "    }\n",
       "\n",
       "    .dataframe thead th {\n",
       "        text-align: right;\n",
       "    }\n",
       "</style>\n",
       "<table border=\"1\" class=\"dataframe\">\n",
       "  <thead>\n",
       "    <tr style=\"text-align: right;\">\n",
       "      <th></th>\n",
       "      <th>mileage</th>\n",
       "      <th>bodyType</th>\n",
       "      <th>brand</th>\n",
       "      <th>color</th>\n",
       "      <th>fuelType</th>\n",
       "      <th>modelDate</th>\n",
       "      <th>name</th>\n",
       "      <th>numberOfDoors</th>\n",
       "      <th>productionDate</th>\n",
       "      <th>vehicleConfiguration</th>\n",
       "      <th>vehicleTransmission</th>\n",
       "      <th>price</th>\n",
       "      <th>engineDisplacement</th>\n",
       "      <th>enginePower</th>\n",
       "    </tr>\n",
       "  </thead>\n",
       "  <tbody>\n",
       "    <tr>\n",
       "      <th>0</th>\n",
       "      <td>&lt;div class=\"ListingItem-module__kmAge\"&gt;42 000 ...</td>\n",
       "      <td>седан</td>\n",
       "      <td>VOLKSWAGEN</td>\n",
       "      <td>чёрный</td>\n",
       "      <td>бензин</td>\n",
       "      <td>2014</td>\n",
       "      <td>1.8 AMT</td>\n",
       "      <td>4</td>\n",
       "      <td>2018</td>\n",
       "      <td>SEDAN ROBOT 1.8</td>\n",
       "      <td>роботизированная</td>\n",
       "      <td>1600000</td>\n",
       "      <td>1.8 LTR</td>\n",
       "      <td>180 N12</td>\n",
       "    </tr>\n",
       "    <tr>\n",
       "      <th>1</th>\n",
       "      <td>&lt;div class=\"ListingItem-module__kmAge\"&gt;265 800...</td>\n",
       "      <td>универсал 5 дв.</td>\n",
       "      <td>VOLKSWAGEN</td>\n",
       "      <td>серебристый</td>\n",
       "      <td>дизель</td>\n",
       "      <td>2005</td>\n",
       "      <td>2.0 AMT</td>\n",
       "      <td>5</td>\n",
       "      <td>2008</td>\n",
       "      <td>WAGON_5_DOORS ROBOT 2.0</td>\n",
       "      <td>роботизированная</td>\n",
       "      <td>420000</td>\n",
       "      <td>2.0 LTR</td>\n",
       "      <td>140 N12</td>\n",
       "    </tr>\n",
       "    <tr>\n",
       "      <th>2</th>\n",
       "      <td>&lt;div class=\"ListingItem-module__kmAge\"&gt;236 000...</td>\n",
       "      <td>седан</td>\n",
       "      <td>VOLKSWAGEN</td>\n",
       "      <td>серебристый</td>\n",
       "      <td>бензин</td>\n",
       "      <td>2005</td>\n",
       "      <td>2.0 AT</td>\n",
       "      <td>4</td>\n",
       "      <td>2006</td>\n",
       "      <td>SEDAN AUTOMATIC 2.0</td>\n",
       "      <td>автоматическая</td>\n",
       "      <td>350000</td>\n",
       "      <td>2.0 LTR</td>\n",
       "      <td>200 N12</td>\n",
       "    </tr>\n",
       "    <tr>\n",
       "      <th>3</th>\n",
       "      <td>&lt;div class=\"ListingItem-module__kmAge\"&gt;230 000...</td>\n",
       "      <td>минивэн</td>\n",
       "      <td>VOLKSWAGEN</td>\n",
       "      <td>серебристый</td>\n",
       "      <td>бензин</td>\n",
       "      <td>2009</td>\n",
       "      <td>2.0 AMT</td>\n",
       "      <td>4</td>\n",
       "      <td>2014</td>\n",
       "      <td>MINIVAN ROBOT 2.0</td>\n",
       "      <td>роботизированная</td>\n",
       "      <td>1050000</td>\n",
       "      <td>2.0 LTR</td>\n",
       "      <td>204 N12</td>\n",
       "    </tr>\n",
       "    <tr>\n",
       "      <th>4</th>\n",
       "      <td>&lt;div class=\"ListingItem-module__kmAge\"&gt;124 000...</td>\n",
       "      <td>седан</td>\n",
       "      <td>VOLKSWAGEN</td>\n",
       "      <td>чёрный</td>\n",
       "      <td>бензин</td>\n",
       "      <td>2009</td>\n",
       "      <td>1.6 AT</td>\n",
       "      <td>4</td>\n",
       "      <td>2010</td>\n",
       "      <td>SEDAN AUTOMATIC 1.6</td>\n",
       "      <td>автоматическая</td>\n",
       "      <td>385000</td>\n",
       "      <td>1.6 LTR</td>\n",
       "      <td>105 N12</td>\n",
       "    </tr>\n",
       "  </tbody>\n",
       "</table>\n",
       "</div>"
      ],
      "text/plain": [
       "                                             mileage         bodyType  \\\n",
       "0  <div class=\"ListingItem-module__kmAge\">42 000 ...            седан   \n",
       "1  <div class=\"ListingItem-module__kmAge\">265 800...  универсал 5 дв.   \n",
       "2  <div class=\"ListingItem-module__kmAge\">236 000...            седан   \n",
       "3  <div class=\"ListingItem-module__kmAge\">230 000...          минивэн   \n",
       "4  <div class=\"ListingItem-module__kmAge\">124 000...            седан   \n",
       "\n",
       "        brand        color fuelType  modelDate     name  numberOfDoors  \\\n",
       "0  VOLKSWAGEN       чёрный   бензин       2014  1.8 AMT              4   \n",
       "1  VOLKSWAGEN  серебристый   дизель       2005  2.0 AMT              5   \n",
       "2  VOLKSWAGEN  серебристый   бензин       2005   2.0 AT              4   \n",
       "3  VOLKSWAGEN  серебристый   бензин       2009  2.0 AMT              4   \n",
       "4  VOLKSWAGEN       чёрный   бензин       2009   1.6 AT              4   \n",
       "\n",
       "   productionDate     vehicleConfiguration vehicleTransmission    price  \\\n",
       "0            2018          SEDAN ROBOT 1.8    роботизированная  1600000   \n",
       "1            2008  WAGON_5_DOORS ROBOT 2.0    роботизированная   420000   \n",
       "2            2006      SEDAN AUTOMATIC 2.0      автоматическая   350000   \n",
       "3            2014        MINIVAN ROBOT 2.0    роботизированная  1050000   \n",
       "4            2010      SEDAN AUTOMATIC 1.6      автоматическая   385000   \n",
       "\n",
       "  engineDisplacement enginePower  \n",
       "0            1.8 LTR     180 N12  \n",
       "1            2.0 LTR     140 N12  \n",
       "2            2.0 LTR     200 N12  \n",
       "3            2.0 LTR     204 N12  \n",
       "4            1.6 LTR     105 N12  "
      ]
     },
     "execution_count": 32,
     "metadata": {},
     "output_type": "execute_result"
    }
   ],
   "source": [
    "df_final.head()"
   ]
  },
  {
   "cell_type": "code",
   "execution_count": 33,
   "metadata": {},
   "outputs": [
    {
     "data": {
      "text/plain": [
       "Index(['mileage', 'bodyType', 'brand', 'color', 'fuelType', 'modelDate',\n",
       "       'name', 'numberOfDoors', 'productionDate', 'vehicleConfiguration',\n",
       "       'vehicleTransmission', 'price', 'engineDisplacement', 'enginePower'],\n",
       "      dtype='object')"
      ]
     },
     "execution_count": 33,
     "metadata": {},
     "output_type": "execute_result"
    }
   ],
   "source": [
    "df_final.columns"
   ]
  },
  {
   "cell_type": "code",
   "execution_count": 34,
   "metadata": {},
   "outputs": [],
   "source": [
    "cols = ['bodyType', 'brand', 'color', 'fuelType', 'modelDate',\n",
    "       'name', 'numberOfDoors', 'productionDate', 'vehicleConfiguration',\n",
    "       'vehicleTransmission', 'engineDisplacement', 'enginePower','mileage','price']"
   ]
  },
  {
   "cell_type": "code",
   "execution_count": 36,
   "metadata": {
    "scrolled": true
   },
   "outputs": [
    {
     "data": {
      "text/html": [
       "<div>\n",
       "<style scoped>\n",
       "    .dataframe tbody tr th:only-of-type {\n",
       "        vertical-align: middle;\n",
       "    }\n",
       "\n",
       "    .dataframe tbody tr th {\n",
       "        vertical-align: top;\n",
       "    }\n",
       "\n",
       "    .dataframe thead th {\n",
       "        text-align: right;\n",
       "    }\n",
       "</style>\n",
       "<table border=\"1\" class=\"dataframe\">\n",
       "  <thead>\n",
       "    <tr style=\"text-align: right;\">\n",
       "      <th></th>\n",
       "      <th>bodyType</th>\n",
       "      <th>brand</th>\n",
       "      <th>color</th>\n",
       "      <th>fuelType</th>\n",
       "      <th>modelDate</th>\n",
       "      <th>name</th>\n",
       "      <th>numberOfDoors</th>\n",
       "      <th>productionDate</th>\n",
       "      <th>vehicleConfiguration</th>\n",
       "      <th>vehicleTransmission</th>\n",
       "      <th>engineDisplacement</th>\n",
       "      <th>enginePower</th>\n",
       "      <th>mileage</th>\n",
       "      <th>price</th>\n",
       "    </tr>\n",
       "  </thead>\n",
       "  <tbody>\n",
       "    <tr>\n",
       "      <th>3313</th>\n",
       "      <td>минивэн</td>\n",
       "      <td>VOLKSWAGEN</td>\n",
       "      <td>зелёный</td>\n",
       "      <td>бензин</td>\n",
       "      <td>2000</td>\n",
       "      <td>1.8 AT</td>\n",
       "      <td>5</td>\n",
       "      <td>2002</td>\n",
       "      <td>MINIVAN AUTOMATIC 1.8</td>\n",
       "      <td>автоматическая</td>\n",
       "      <td>1.8 LTR</td>\n",
       "      <td>150 N12</td>\n",
       "      <td>&lt;div class=\"ListingItem-module__kmAge\"&gt;300 000...</td>\n",
       "      <td>320000</td>\n",
       "    </tr>\n",
       "    <tr>\n",
       "      <th>10178</th>\n",
       "      <td>седан</td>\n",
       "      <td>MERCEDES</td>\n",
       "      <td>чёрный</td>\n",
       "      <td>бензин</td>\n",
       "      <td>2016</td>\n",
       "      <td>2.0 AT</td>\n",
       "      <td>4</td>\n",
       "      <td>2020</td>\n",
       "      <td>SEDAN AUTOMATIC 2.0</td>\n",
       "      <td>автоматическая</td>\n",
       "      <td>2.0 LTR</td>\n",
       "      <td>197 N12</td>\n",
       "      <td>&lt;div class=\"ListingItem-module__kmAge\"&gt;Новый&lt;/...</td>\n",
       "      <td>2793200</td>\n",
       "    </tr>\n",
       "    <tr>\n",
       "      <th>18790</th>\n",
       "      <td>внедорожник 3 дв.</td>\n",
       "      <td>SUZUKI</td>\n",
       "      <td>серебристый</td>\n",
       "      <td>бензин</td>\n",
       "      <td>2005</td>\n",
       "      <td>1.3 MT</td>\n",
       "      <td>3</td>\n",
       "      <td>2008</td>\n",
       "      <td>ALLROAD_3_DOORS MECHANICAL 1.3</td>\n",
       "      <td>механическая</td>\n",
       "      <td>1.3 LTR</td>\n",
       "      <td>85 N12</td>\n",
       "      <td>&lt;div class=\"ListingItem-module__kmAge\"&gt;127 747...</td>\n",
       "      <td>449000</td>\n",
       "    </tr>\n",
       "    <tr>\n",
       "      <th>11716</th>\n",
       "      <td>внедорожник 5 дв.</td>\n",
       "      <td>VOLVO</td>\n",
       "      <td>коричневый</td>\n",
       "      <td>дизель</td>\n",
       "      <td>2008</td>\n",
       "      <td>2.4 AT</td>\n",
       "      <td>5</td>\n",
       "      <td>2010</td>\n",
       "      <td>ALLROAD_5_DOORS AUTOMATIC 2.4</td>\n",
       "      <td>автоматическая</td>\n",
       "      <td>2.4 LTR</td>\n",
       "      <td>205 N12</td>\n",
       "      <td>&lt;div class=\"ListingItem-module__kmAge\"&gt;164 982...</td>\n",
       "      <td>1050000</td>\n",
       "    </tr>\n",
       "    <tr>\n",
       "      <th>4445</th>\n",
       "      <td>внедорожник 5 дв.</td>\n",
       "      <td>AUDI</td>\n",
       "      <td>белый</td>\n",
       "      <td>бензин</td>\n",
       "      <td>2011</td>\n",
       "      <td>2.0 AMT</td>\n",
       "      <td>5</td>\n",
       "      <td>2012</td>\n",
       "      <td>ALLROAD_5_DOORS ROBOT 2.0</td>\n",
       "      <td>роботизированная</td>\n",
       "      <td>2.0 LTR</td>\n",
       "      <td>170 N12</td>\n",
       "      <td>&lt;div class=\"ListingItem-module__kmAge\"&gt;145 863...</td>\n",
       "      <td>779980</td>\n",
       "    </tr>\n",
       "    <tr>\n",
       "      <th>4592</th>\n",
       "      <td>седан</td>\n",
       "      <td>AUDI</td>\n",
       "      <td>чёрный</td>\n",
       "      <td>бензин</td>\n",
       "      <td>2011</td>\n",
       "      <td>2.0 CVT</td>\n",
       "      <td>4</td>\n",
       "      <td>2012</td>\n",
       "      <td>SEDAN VARIATOR 2.0</td>\n",
       "      <td>вариатор</td>\n",
       "      <td>2.0 LTR</td>\n",
       "      <td>180 N12</td>\n",
       "      <td>&lt;div class=\"ListingItem-module__kmAge\"&gt;156 000...</td>\n",
       "      <td>759000</td>\n",
       "    </tr>\n",
       "    <tr>\n",
       "      <th>6535</th>\n",
       "      <td>седан</td>\n",
       "      <td>TOYOTA</td>\n",
       "      <td>серый</td>\n",
       "      <td>бензин</td>\n",
       "      <td>2006</td>\n",
       "      <td>1.6 AT</td>\n",
       "      <td>4</td>\n",
       "      <td>2007</td>\n",
       "      <td>SEDAN AUTOMATIC 1.6</td>\n",
       "      <td>автоматическая</td>\n",
       "      <td>1.6 LTR</td>\n",
       "      <td>124 N12</td>\n",
       "      <td>&lt;div class=\"ListingItem-module__kmAge\"&gt;160 000...</td>\n",
       "      <td>440000</td>\n",
       "    </tr>\n",
       "    <tr>\n",
       "      <th>16082</th>\n",
       "      <td>седан</td>\n",
       "      <td>NISSAN</td>\n",
       "      <td>чёрный</td>\n",
       "      <td>бензин</td>\n",
       "      <td>1994</td>\n",
       "      <td>3.0 MT</td>\n",
       "      <td>4</td>\n",
       "      <td>1996</td>\n",
       "      <td>SEDAN MECHANICAL 3.0</td>\n",
       "      <td>механическая</td>\n",
       "      <td>3.0 LTR</td>\n",
       "      <td>193 N12</td>\n",
       "      <td>&lt;div class=\"ListingItem-module__kmAge\"&gt;401 000...</td>\n",
       "      <td>90000</td>\n",
       "    </tr>\n",
       "    <tr>\n",
       "      <th>9592</th>\n",
       "      <td>внедорожник 5 дв.</td>\n",
       "      <td>MERCEDES</td>\n",
       "      <td>синий</td>\n",
       "      <td>дизель</td>\n",
       "      <td>2015</td>\n",
       "      <td>3.0 AT</td>\n",
       "      <td>5</td>\n",
       "      <td>2019</td>\n",
       "      <td>ALLROAD_5_DOORS AUTOMATIC 3.0</td>\n",
       "      <td>автоматическая</td>\n",
       "      <td>3.0 LTR</td>\n",
       "      <td>249 N12</td>\n",
       "      <td>&lt;div class=\"ListingItem-module__kmAge\"&gt;Новый&lt;/...</td>\n",
       "      <td>6251030</td>\n",
       "    </tr>\n",
       "    <tr>\n",
       "      <th>9738</th>\n",
       "      <td>внедорожник 5 дв.</td>\n",
       "      <td>MERCEDES</td>\n",
       "      <td>чёрный</td>\n",
       "      <td>бензин</td>\n",
       "      <td>2019</td>\n",
       "      <td>2.0 AT</td>\n",
       "      <td>5</td>\n",
       "      <td>2020</td>\n",
       "      <td>ALLROAD_5_DOORS AUTOMATIC 2.0</td>\n",
       "      <td>автоматическая</td>\n",
       "      <td>2.0 LTR</td>\n",
       "      <td>249 N12</td>\n",
       "      <td>&lt;div class=\"ListingItem-module__kmAge\"&gt;Новый&lt;/...</td>\n",
       "      <td>3805920</td>\n",
       "    </tr>\n",
       "  </tbody>\n",
       "</table>\n",
       "</div>"
      ],
      "text/plain": [
       "                bodyType       brand        color fuelType  modelDate  \\\n",
       "3313             минивэн  VOLKSWAGEN      зелёный   бензин       2000   \n",
       "10178              седан    MERCEDES       чёрный   бензин       2016   \n",
       "18790  внедорожник 3 дв.      SUZUKI  серебристый   бензин       2005   \n",
       "11716  внедорожник 5 дв.       VOLVO   коричневый   дизель       2008   \n",
       "4445   внедорожник 5 дв.        AUDI        белый   бензин       2011   \n",
       "4592               седан        AUDI       чёрный   бензин       2011   \n",
       "6535               седан      TOYOTA        серый   бензин       2006   \n",
       "16082              седан      NISSAN       чёрный   бензин       1994   \n",
       "9592   внедорожник 5 дв.    MERCEDES        синий   дизель       2015   \n",
       "9738   внедорожник 5 дв.    MERCEDES       чёрный   бензин       2019   \n",
       "\n",
       "          name  numberOfDoors  productionDate            vehicleConfiguration  \\\n",
       "3313    1.8 AT              5            2002           MINIVAN AUTOMATIC 1.8   \n",
       "10178   2.0 AT              4            2020             SEDAN AUTOMATIC 2.0   \n",
       "18790   1.3 MT              3            2008  ALLROAD_3_DOORS MECHANICAL 1.3   \n",
       "11716   2.4 AT              5            2010   ALLROAD_5_DOORS AUTOMATIC 2.4   \n",
       "4445   2.0 AMT              5            2012       ALLROAD_5_DOORS ROBOT 2.0   \n",
       "4592   2.0 CVT              4            2012              SEDAN VARIATOR 2.0   \n",
       "6535    1.6 AT              4            2007             SEDAN AUTOMATIC 1.6   \n",
       "16082   3.0 MT              4            1996            SEDAN MECHANICAL 3.0   \n",
       "9592    3.0 AT              5            2019   ALLROAD_5_DOORS AUTOMATIC 3.0   \n",
       "9738    2.0 AT              5            2020   ALLROAD_5_DOORS AUTOMATIC 2.0   \n",
       "\n",
       "      vehicleTransmission engineDisplacement enginePower  \\\n",
       "3313       автоматическая            1.8 LTR     150 N12   \n",
       "10178      автоматическая            2.0 LTR     197 N12   \n",
       "18790        механическая            1.3 LTR      85 N12   \n",
       "11716      автоматическая            2.4 LTR     205 N12   \n",
       "4445     роботизированная            2.0 LTR     170 N12   \n",
       "4592             вариатор            2.0 LTR     180 N12   \n",
       "6535       автоматическая            1.6 LTR     124 N12   \n",
       "16082        механическая            3.0 LTR     193 N12   \n",
       "9592       автоматическая            3.0 LTR     249 N12   \n",
       "9738       автоматическая            2.0 LTR     249 N12   \n",
       "\n",
       "                                                 mileage    price  \n",
       "3313   <div class=\"ListingItem-module__kmAge\">300 000...   320000  \n",
       "10178  <div class=\"ListingItem-module__kmAge\">Новый</...  2793200  \n",
       "18790  <div class=\"ListingItem-module__kmAge\">127 747...   449000  \n",
       "11716  <div class=\"ListingItem-module__kmAge\">164 982...  1050000  \n",
       "4445   <div class=\"ListingItem-module__kmAge\">145 863...   779980  \n",
       "4592   <div class=\"ListingItem-module__kmAge\">156 000...   759000  \n",
       "6535   <div class=\"ListingItem-module__kmAge\">160 000...   440000  \n",
       "16082  <div class=\"ListingItem-module__kmAge\">401 000...    90000  \n",
       "9592   <div class=\"ListingItem-module__kmAge\">Новый</...  6251030  \n",
       "9738   <div class=\"ListingItem-module__kmAge\">Новый</...  3805920  "
      ]
     },
     "execution_count": 36,
     "metadata": {},
     "output_type": "execute_result"
    }
   ],
   "source": [
    "df_final = df_final[cols]\n",
    "df_final.sample(10)"
   ]
  },
  {
   "cell_type": "code",
   "execution_count": 37,
   "metadata": {},
   "outputs": [],
   "source": [
    "df_final.to_csv('train_part_one.csv')"
   ]
  },
  {
   "cell_type": "code",
   "execution_count": 38,
   "metadata": {},
   "outputs": [],
   "source": [
    "DF = pd.read_csv('train_part_one.csv')"
   ]
  },
  {
   "cell_type": "code",
   "execution_count": 62,
   "metadata": {},
   "outputs": [],
   "source": [
    "DF['mileage'] = DF['mileage'].replace('div',' ')"
   ]
  },
  {
   "cell_type": "code",
   "execution_count": 63,
   "metadata": {},
   "outputs": [
    {
     "data": {
      "text/plain": [
       "'<div class=\"ListingItem-module__kmAge\">265\\xa0800\\xa0км</div>'"
      ]
     },
     "execution_count": 63,
     "metadata": {},
     "output_type": "execute_result"
    }
   ],
   "source": [
    "DF['mileage'][1]"
   ]
  },
  {
   "cell_type": "code",
   "execution_count": 43,
   "metadata": {},
   "outputs": [
    {
     "name": "stdout",
     "output_type": "stream",
     "text": [
      "<class 'pandas.core.frame.DataFrame'>\n",
      "RangeIndex: 35990 entries, 0 to 35989\n",
      "Data columns (total 23 columns):\n",
      " #   Column                Non-Null Count  Dtype  \n",
      "---  ------                --------------  -----  \n",
      " 0   bodyType              35990 non-null  object \n",
      " 1   brand                 35990 non-null  object \n",
      " 2   color                 35990 non-null  object \n",
      " 3   fuelType              35990 non-null  object \n",
      " 4   modelDate             35990 non-null  float64\n",
      " 5   name                  35990 non-null  object \n",
      " 6   numberOfDoors         35990 non-null  float64\n",
      " 7   productionDate        35990 non-null  float64\n",
      " 8   vehicleConfiguration  35990 non-null  object \n",
      " 9   vehicleTransmission   35990 non-null  object \n",
      " 10  engineDisplacement    35990 non-null  object \n",
      " 11  enginePower           35990 non-null  object \n",
      " 12  description           35990 non-null  object \n",
      " 13  mileage               35990 non-null  float64\n",
      " 14  Комплектация          35990 non-null  object \n",
      " 15  Привод                35990 non-null  object \n",
      " 16  Руль                  35990 non-null  object \n",
      " 17  Состояние             35990 non-null  object \n",
      " 18  Владельцы             35990 non-null  object \n",
      " 19  ПТС                   35990 non-null  object \n",
      " 20  Таможня               35990 non-null  object \n",
      " 21  Владение              15370 non-null  object \n",
      " 22  id                    35990 non-null  int64  \n",
      "dtypes: float64(4), int64(1), object(18)\n",
      "memory usage: 6.3+ MB\n"
     ]
    }
   ],
   "source": [
    "test.info()"
   ]
  },
  {
   "cell_type": "code",
   "execution_count": 64,
   "metadata": {},
   "outputs": [
    {
     "data": {
      "text/plain": [
       "(38115, 15)"
      ]
     },
     "execution_count": 64,
     "metadata": {},
     "output_type": "execute_result"
    }
   ],
   "source": [
    "DF.shape"
   ]
  }
 ],
 "metadata": {
  "kernelspec": {
   "display_name": "Python 3",
   "language": "python",
   "name": "python3"
  },
  "language_info": {
   "codemirror_mode": {
    "name": "ipython",
    "version": 3
   },
   "file_extension": ".py",
   "mimetype": "text/x-python",
   "name": "python",
   "nbconvert_exporter": "python",
   "pygments_lexer": "ipython3",
   "version": "3.7.6"
  }
 },
 "nbformat": 4,
 "nbformat_minor": 4
}
